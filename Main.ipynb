{
 "cells": [
  {
   "cell_type": "code",
   "execution_count": 1,
   "id": "7cffa156-f2de-4af4-892f-4ed9a5242ae3",
   "metadata": {},
   "outputs": [
    {
     "name": "stdout",
     "output_type": "stream",
     "text": [
      "Files removed: 80 (216.1 MB)\n"
     ]
    }
   ],
   "source": [
    "!pip uninstall mediapipe -y -q\n",
    "!pip cache purge\n",
    "!pip install mediapipe -q --upgrade"
   ]
  },
  {
   "cell_type": "code",
   "execution_count": 2,
   "id": "b5f2734c-a007-409d-95a6-d2f1c8c75e6c",
   "metadata": {},
   "outputs": [],
   "source": [
    "import cv2\n",
    "import mediapipe as mp\n",
    "import time"
   ]
  },
  {
   "cell_type": "code",
   "execution_count": 3,
   "id": "627a528e-e006-4346-b9cc-e862aa65ba93",
   "metadata": {},
   "outputs": [],
   "source": [
    "BaseOptions = mp.tasks.BaseOptions\n",
    "GestureRecognizer = mp.tasks.vision.GestureRecognizer\n",
    "GestureRecognizerOptions = mp.tasks.vision.GestureRecognizerOptions\n",
    "GestureRecognizerResult = mp.tasks.vision.GestureRecognizerResult\n",
    "VisionRunningMode = mp.tasks.vision.RunningMode"
   ]
  },
  {
   "cell_type": "code",
   "execution_count": 4,
   "id": "1d19d4d3-d921-423d-a4f6-8d9fd7621f41",
   "metadata": {},
   "outputs": [],
   "source": [
    "def print_result(result: GestureRecognizerResult, output_image: mp.Image, timestamp_ms: int):\n",
    "    print(f'gesture recognition result: {result}')"
   ]
  },
  {
   "cell_type": "code",
   "execution_count": 7,
   "id": "f4df13ee-1482-4c6d-828a-0680caebd433",
   "metadata": {},
   "outputs": [],
   "source": [
    "options = GestureRecognizerOptions(\n",
    "    base_options=BaseOptions(model_asset_path='./gesture_recognizer.task'),\n",
    "    running_mode=VisionRunningMode.LIVE_STREAM,\n",
    "    result_callback=print_result)"
   ]
  },
  {
   "cell_type": "code",
   "execution_count": 8,
   "id": "781c7a88-1ee4-4bf8-9c41-ab489fc29149",
   "metadata": {},
   "outputs": [
    {
     "ename": "RuntimeError",
     "evalue": "Unable to open file at C:\\Users\\Usuario\\Desktop\\Ejercicios\\Imágen\\Control-de-player-via-gestos\\gesture_recognizer.task",
     "output_type": "error",
     "traceback": [
      "\u001b[1;31m---------------------------------------------------------------------------\u001b[0m",
      "\u001b[1;31mRuntimeError\u001b[0m                              Traceback (most recent call last)",
      "Cell \u001b[1;32mIn[8], line 1\u001b[0m\n\u001b[1;32m----> 1\u001b[0m \u001b[38;5;28;01mwith\u001b[39;00m GestureRecognizer\u001b[38;5;241m.\u001b[39mcreate_from_options(options) \u001b[38;5;28;01mas\u001b[39;00m recognizer:\n\u001b[0;32m      2\u001b[0m   cap \u001b[38;5;241m=\u001b[39m cv2\u001b[38;5;241m.\u001b[39mVideoCapture(\u001b[38;5;241m1\u001b[39m)\n\u001b[0;32m      3\u001b[0m   \u001b[38;5;28mprint\u001b[39m(cap)\n",
      "File \u001b[1;32m~\\anaconda3\\envs\\Imagen\\Lib\\site-packages\\mediapipe\\tasks\\python\\vision\\gesture_recognizer.py:340\u001b[0m, in \u001b[0;36mGestureRecognizer.create_from_options\u001b[1;34m(cls, options)\u001b[0m\n\u001b[0;32m    317\u001b[0m   options\u001b[38;5;241m.\u001b[39mresult_callback(\n\u001b[0;32m    318\u001b[0m       gesture_recognizer_result,\n\u001b[0;32m    319\u001b[0m       image,\n\u001b[0;32m    320\u001b[0m       timestamp\u001b[38;5;241m.\u001b[39mvalue \u001b[38;5;241m/\u001b[39m\u001b[38;5;241m/\u001b[39m _MICRO_SECONDS_PER_MILLISECOND,\n\u001b[0;32m    321\u001b[0m   )\n\u001b[0;32m    323\u001b[0m task_info \u001b[38;5;241m=\u001b[39m _TaskInfo(\n\u001b[0;32m    324\u001b[0m     task_graph\u001b[38;5;241m=\u001b[39m_TASK_GRAPH_NAME,\n\u001b[0;32m    325\u001b[0m     input_streams\u001b[38;5;241m=\u001b[39m[\n\u001b[1;32m   (...)\u001b[0m\n\u001b[0;32m    338\u001b[0m     task_options\u001b[38;5;241m=\u001b[39moptions,\n\u001b[0;32m    339\u001b[0m )\n\u001b[1;32m--> 340\u001b[0m \u001b[38;5;28;01mreturn\u001b[39;00m \u001b[38;5;28mcls\u001b[39m(\n\u001b[0;32m    341\u001b[0m     task_info\u001b[38;5;241m.\u001b[39mgenerate_graph_config(\n\u001b[0;32m    342\u001b[0m         enable_flow_limiting\u001b[38;5;241m=\u001b[39moptions\u001b[38;5;241m.\u001b[39mrunning_mode\n\u001b[0;32m    343\u001b[0m         \u001b[38;5;241m==\u001b[39m _RunningMode\u001b[38;5;241m.\u001b[39mLIVE_STREAM\n\u001b[0;32m    344\u001b[0m     ),\n\u001b[0;32m    345\u001b[0m     options\u001b[38;5;241m.\u001b[39mrunning_mode,\n\u001b[0;32m    346\u001b[0m     packets_callback \u001b[38;5;28;01mif\u001b[39;00m options\u001b[38;5;241m.\u001b[39mresult_callback \u001b[38;5;28;01melse\u001b[39;00m \u001b[38;5;28;01mNone\u001b[39;00m,\n\u001b[0;32m    347\u001b[0m )\n",
      "File \u001b[1;32m~\\anaconda3\\envs\\Imagen\\Lib\\site-packages\\mediapipe\\tasks\\python\\vision\\core\\base_vision_task_api.py:70\u001b[0m, in \u001b[0;36mBaseVisionTaskApi.__init__\u001b[1;34m(self, graph_config, running_mode, packet_callback)\u001b[0m\n\u001b[0;32m     65\u001b[0m \u001b[38;5;28;01melif\u001b[39;00m packet_callback:\n\u001b[0;32m     66\u001b[0m   \u001b[38;5;28;01mraise\u001b[39;00m \u001b[38;5;167;01mValueError\u001b[39;00m(\n\u001b[0;32m     67\u001b[0m       \u001b[38;5;124m'\u001b[39m\u001b[38;5;124mThe vision task is in image or video mode, a user-defined result \u001b[39m\u001b[38;5;124m'\u001b[39m\n\u001b[0;32m     68\u001b[0m       \u001b[38;5;124m'\u001b[39m\u001b[38;5;124mcallback should not be provided.\u001b[39m\u001b[38;5;124m'\u001b[39m\n\u001b[0;32m     69\u001b[0m   )\n\u001b[1;32m---> 70\u001b[0m \u001b[38;5;28mself\u001b[39m\u001b[38;5;241m.\u001b[39m_runner \u001b[38;5;241m=\u001b[39m _TaskRunner\u001b[38;5;241m.\u001b[39mcreate(graph_config, packet_callback)\n\u001b[0;32m     71\u001b[0m \u001b[38;5;28mself\u001b[39m\u001b[38;5;241m.\u001b[39m_running_mode \u001b[38;5;241m=\u001b[39m running_mode\n",
      "\u001b[1;31mRuntimeError\u001b[0m: Unable to open file at C:\\Users\\Usuario\\Desktop\\Ejercicios\\Imágen\\Control-de-player-via-gestos\\gesture_recognizer.task"
     ]
    }
   ],
   "source": [
    "with GestureRecognizer.create_from_options(options) as recognizer:\n",
    "  cap = cv2.VideoCapture(1)\n",
    "  print(cap)\n",
    "  while cap.isOpened():\n",
    "    success, frame = cap.read()\n",
    "    if not success:\n",
    "        break\n",
    "\n",
    "    rgb_frame = cv2.cvtColor(frame, cv2.COLOR_BGR2RGB)\n",
    "    mp_image = mp.Image(image_format=mp.ImageFormat.SRGB, data=rgb_frame)\n",
    "    timestamp_ms = int(time.time() * 1000)\n",
    "    recognizer.recognize_async(mp_image, timestamp_ms)\n",
    "\n",
    "    cv2.imshow('Gesture Recognition', frame)\n",
    "    if cv2.waitKey(1) & 0xFF == ord('q'):\n",
    "          break\n",
    "\n",
    "cap.release()\n",
    "cv2.destroyAllWindows()"
   ]
  },
  {
   "cell_type": "code",
   "execution_count": null,
   "id": "fc49e83e-b3a1-496f-b4cc-da87c3df7ecd",
   "metadata": {},
   "outputs": [],
   "source": []
  }
 ],
 "metadata": {
  "kernelspec": {
   "display_name": "Python 3 (ipykernel)",
   "language": "python",
   "name": "python3"
  },
  "language_info": {
   "codemirror_mode": {
    "name": "ipython",
    "version": 3
   },
   "file_extension": ".py",
   "mimetype": "text/x-python",
   "name": "python",
   "nbconvert_exporter": "python",
   "pygments_lexer": "ipython3",
   "version": "3.12.9"
  }
 },
 "nbformat": 4,
 "nbformat_minor": 5
}

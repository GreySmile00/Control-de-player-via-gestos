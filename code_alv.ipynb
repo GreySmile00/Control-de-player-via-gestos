{
 "cells": [
  {
   "cell_type": "markdown",
   "id": "8b0e1b93-0dc0-4554-b3c8-631e14939c93",
   "metadata": {},
   "source": [
    "# Control de un player de vídeo a través de gestos"
   ]
  },
  {
   "cell_type": "markdown",
   "id": "35490a15-c2e7-4a33-b079-490dde258976",
   "metadata": {},
   "source": [
    "## Paquetes necesarios"
   ]
  },
  {
   "cell_type": "code",
   "execution_count": 1,
   "id": "cc90ed44-2530-4d93-821b-a0e94e53fb20",
   "metadata": {},
   "outputs": [],
   "source": [
    "import cv2\n",
    "import mediapipe as mp"
   ]
  },
  {
   "cell_type": "markdown",
   "id": "a5556621-0efa-4cf4-b41d-d674bd86a73e",
   "metadata": {},
   "source": [
    "![Hand landmarks.](\"C:/Users/34611/OneDrive/Escritorio/GTDM/Tercero/Imagen/Proyecto/Control-de-player-via-gestos/images/hand_landmarks.png\")"
   ]
  },
  {
   "cell_type": "code",
   "execution_count": 8,
   "id": "94f9a419-0376-45ef-b198-b84c0ab8aede",
   "metadata": {},
   "outputs": [],
   "source": [
    "mp_hands   = mp.solutions.hands\n",
    "mp_drawing = mp.solutions.drawing_utils\n",
    "\n",
    "def get_finger_states(hand_landmarks):\n",
    "    fingers = []\n",
    "\n",
    "    # Pulgar (compara X en lugar de Y porque el pulgar se mueve lateralmente)\n",
    "    if hand_landmarks.landmark[4].x < hand_landmarks.landmark[3].x:\n",
    "        fingers.append(1)  # Extendido\n",
    "    else:\n",
    "        fingers.append(0)  # Doblado\n",
    "\n",
    "    # Resto de los dedos: Índice, Medio, Anular, Meñique\n",
    "    tips = [8, 12, 16, 20]\n",
    "    pips = [6, 10, 14, 18]\n",
    "\n",
    "    for tip, pip in zip(tips, pips):\n",
    "        if hand_landmarks.landmark[tip].y < hand_landmarks.landmark[pip].y:\n",
    "            fingers.append(1)\n",
    "        else:\n",
    "            fingers.append(0)\n",
    "\n",
    "    return fingers  # [pulgar, índice, medio, anular, meñique]\n",
    "\n",
    "# Detecta gesto: Mano abierta o puño\n",
    "def detect_custom_gesture(fingers):\n",
    "    # fingers = [pulgar, índice, medio, anular, meñique]\n",
    "    if fingers == [1, 1, 0, 0, 0]:\n",
    "        return \"L\"\n",
    "    elif fingers == [0, 1, 1, 0, 0]:\n",
    "        return \"V\"\n",
    "    elif fingers == [0, 1, 0, 0, 1]:\n",
    "        return \"Rock\"\n",
    "    elif fingers == [0, 0, 0, 0, 0]:\n",
    "        return \"Puño\"\n",
    "    elif fingers == [1, 1, 1, 1, 1]:\n",
    "        return \"Palma\"\n",
    "    else:\n",
    "        return \"Unknown\"\n",
    "\n",
    "# Captura\n",
    "cap = cv2.VideoCapture(0)\n",
    "\n",
    "with mp_hands.Hands(max_num_hands=1, min_detection_confidence=0.7) as hands:\n",
    "    while cap.isOpened():\n",
    "        ret, frame = cap.read()\n",
    "        if not ret:\n",
    "            break\n",
    "\n",
    "        image = cv2.cvtColor(frame, cv2.COLOR_BGR2RGB)\n",
    "        image.flags.writeable = False\n",
    "        results = hands.process(image)\n",
    "\n",
    "        image.flags.writeable = True\n",
    "        image = cv2.cvtColor(image, cv2.COLOR_RGB2BGR)\n",
    "\n",
    "        if results.multi_hand_landmarks:\n",
    "            for hand_landmarks in results.multi_hand_landmarks:\n",
    "                mp_drawing.draw_landmarks(image, hand_landmarks, mp_hands.HAND_CONNECTIONS)\n",
    "\n",
    "                fingers = get_finger_states(hand_landmarks)\n",
    "                gesture = detect_custom_gesture(fingers)\n",
    "                cv2.putText(image, f'Gesture: {gesture}', (10, 30), cv2.FONT_HERSHEY_SIMPLEX, 1, (255, 0, 0), 2)\n",
    "\n",
    "        cv2.imshow('Hand Gesture Recognition', image)\n",
    "        if cv2.waitKey(1) == ord('q'):\n",
    "            break\n",
    "\n",
    "cap.release()\n",
    "cv2.destroyAllWindows()\n"
   ]
  },
  {
   "cell_type": "code",
   "execution_count": null,
   "id": "f02aaca1-cae0-445d-9b3e-1b41444685ae",
   "metadata": {},
   "outputs": [],
   "source": []
  }
 ],
 "metadata": {
  "kernelspec": {
   "display_name": "Python 3 (ipykernel)",
   "language": "python",
   "name": "python3"
  },
  "language_info": {
   "codemirror_mode": {
    "name": "ipython",
    "version": 3
   },
   "file_extension": ".py",
   "mimetype": "text/x-python",
   "name": "python",
   "nbconvert_exporter": "python",
   "pygments_lexer": "ipython3",
   "version": "3.12.9"
  }
 },
 "nbformat": 4,
 "nbformat_minor": 5
}

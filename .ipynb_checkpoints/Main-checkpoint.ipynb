{
 "cells": [
  {
   "cell_type": "code",
   "execution_count": 1,
   "id": "7cffa156-f2de-4af4-892f-4ed9a5242ae3",
   "metadata": {},
   "outputs": [
    {
     "name": "stderr",
     "output_type": "stream",
     "text": [
      "WARNING: Failed to remove contents in a temporary directory 'C:\\Users\\Usuario\\anaconda3\\envs\\Imagen\\Lib\\site-packages\\~ediapipe'.\n",
      "You can safely remove it manually.\n"
     ]
    },
    {
     "name": "stdout",
     "output_type": "stream",
     "text": [
      "Files removed: 6 (51.0 MB)\n"
     ]
    }
   ],
   "source": [
    "!pip uninstall mediapipe -y -q\n",
    "!pip cache purge\n",
    "!pip install mediapipe -q --upgrade"
   ]
  },
  {
   "cell_type": "code",
   "execution_count": 6,
   "id": "b5f2734c-a007-409d-95a6-d2f1c8c75e6c",
   "metadata": {},
   "outputs": [],
   "source": [
    "import cv2\n",
    "import mediapipe as mp\n",
    "import time"
   ]
  },
  {
   "cell_type": "code",
   "execution_count": 11,
   "id": "627a528e-e006-4346-b9cc-e862aa65ba93",
   "metadata": {},
   "outputs": [],
   "source": [
    "BaseOptions = mp.tasks.BaseOptions\n",
    "GestureRecognizer = mp.tasks.vision.GestureRecognizer\n",
    "GestureRecognizerOptions = mp.tasks.vision.GestureRecognizerOptions\n",
    "GestureRecognizerResult = mp.tasks.vision.GestureRecognizerResult\n",
    "VisionRunningMode = mp.tasks.vision.RunningMode"
   ]
  },
  {
   "cell_type": "code",
   "execution_count": 12,
   "id": "1d19d4d3-d921-423d-a4f6-8d9fd7621f41",
   "metadata": {},
   "outputs": [],
   "source": [
    "def print_result(result: GestureRecognizerResult, output_image: mp.Image, timestamp_ms: int):\n",
    "    #print(f'gesture recognition result: {result}')\n",
    "\n",
    "    if len(result.gestures)>0:\n",
    "        gesto = result.gestures[0][0]\n",
    "        print(f'{timestamp_ms} Gesto: {gesto.category_name}')\n",
    "    #print(f'Score: {result[0][0].score}')"
   ]
  },
  {
   "cell_type": "code",
   "execution_count": 13,
   "id": "f4df13ee-1482-4c6d-828a-0680caebd433",
   "metadata": {},
   "outputs": [],
   "source": [
    "options = GestureRecognizerOptions(\n",
    "    base_options=BaseOptions(model_asset_path='./gesture_recognizer.task'),\n",
    "    running_mode=VisionRunningMode.LIVE_STREAM,\n",
    "    result_callback=print_result)"
   ]
  },
  {
   "cell_type": "code",
   "execution_count": 14,
   "id": "781c7a88-1ee4-4bf8-9c41-ab489fc29149",
   "metadata": {},
   "outputs": [
    {
     "name": "stdout",
     "output_type": "stream",
     "text": [
      "< cv2.VideoCapture 000001C52050A3F0>\n",
      "1747940096731 Gesto: Thumb_Up\n",
      "1747940096763 Gesto: None\n",
      "1747940096795 Gesto: Thumb_Up\n",
      "1747940096829 Gesto: Thumb_Up\n",
      "1747940096860 Gesto: Thumb_Up\n",
      "1747940096891 Gesto: Thumb_Up\n",
      "1747940096923 Gesto: Thumb_Up\n",
      "1747940096956 Gesto: Thumb_Up\n",
      "1747940096988 Gesto: Thumb_Up\n",
      "1747940097020 Gesto: Thumb_Up\n",
      "1747940097052 Gesto: Thumb_Up\n",
      "1747940097084 Gesto: Thumb_Up\n",
      "1747940097115 Gesto: Thumb_Up\n",
      "1747940097148 Gesto: Thumb_Up\n",
      "1747940097180 Gesto: Thumb_Up\n",
      "1747940097211 Gesto: Thumb_Up\n",
      "1747940097243 Gesto: Thumb_Up\n",
      "1747940097275 Gesto: Thumb_Up\n",
      "1747940097309 Gesto: Thumb_Up\n",
      "1747940097342 Gesto: Thumb_Up\n",
      "1747940097387 Gesto: Thumb_Up\n",
      "1747940097419 Gesto: Thumb_Up\n",
      "1747940097451 Gesto: Thumb_Up\n",
      "1747940097483 Gesto: Thumb_Up\n",
      "1747940097516 Gesto: Thumb_Up\n",
      "1747940097548 Gesto: Thumb_Up\n",
      "1747940097580 Gesto: Thumb_Up\n",
      "1747940097612 Gesto: Thumb_Up\n",
      "1747940097644 Gesto: Thumb_Up\n",
      "1747940097675 Gesto: Thumb_Up\n",
      "1747940097707 Gesto: Thumb_Up\n",
      "1747940099980 Gesto: None\n",
      "1747940099992 Gesto: None\n",
      "1747940100011 Gesto: None\n",
      "1747940100045 Gesto: None\n",
      "1747940100077 Gesto: None\n",
      "1747940100107 Gesto: None\n",
      "1747940100141 Gesto: Open_Palm\n",
      "1747940100172 Gesto: Open_Palm\n",
      "1747940100235 Gesto: Open_Palm\n",
      "1747940100267 Gesto: Open_Palm\n",
      "1747940100363 Gesto: None\n",
      "1747940100459 Gesto: None\n",
      "1747940100491 Gesto: None\n",
      "1747940100525 Gesto: None\n",
      "1747940100572 Gesto: None\n",
      "1747940100636 Gesto: None\n",
      "1747940100667 Gesto: None\n",
      "1747940100700 Gesto: None\n",
      "1747940100764 Gesto: None\n",
      "1747940100795 Gesto: None\n",
      "1747940100828 Gesto: None\n",
      "1747940100859 Gesto: None\n",
      "1747940100891 Gesto: None\n",
      "1747940100956 Gesto: None\n",
      "1747940100989 Gesto: None\n",
      "1747940101019 Gesto: None\n",
      "1747940102043 Gesto: None\n",
      "1747940102075 Gesto: None\n",
      "1747940102107 Gesto: None\n",
      "1747940102139 Gesto: None\n",
      "1747940102172 Gesto: None\n"
     ]
    }
   ],
   "source": [
    "with GestureRecognizer.create_from_options(options) as recognizer:\n",
    "  cap = cv2.VideoCapture(1)\n",
    "  print(cap)\n",
    "  while cap.isOpened():\n",
    "    success, frame = cap.read()\n",
    "    if not success:\n",
    "        print('Error con la cámara')\n",
    "        break\n",
    "\n",
    "    rgb_frame = cv2.cvtColor(frame, cv2.COLOR_BGR2RGB)\n",
    "    mp_image = mp.Image(image_format=mp.ImageFormat.SRGB, data=rgb_frame)\n",
    "    timestamp_ms = int(time.time() * 1000)\n",
    "    recognizer.recognize_async(mp_image, timestamp_ms)\n",
    "\n",
    "    cv2.imshow('Gesture Recognition', frame)\n",
    "    if cv2.waitKey(1) & 0xFF == ord('q'):\n",
    "          break\n",
    "\n",
    "cap.release()\n",
    "cv2.destroyAllWindows()"
   ]
  },
  {
   "cell_type": "code",
   "execution_count": null,
   "id": "4ae37272-7e8d-44aa-90dd-20b43fa22632",
   "metadata": {},
   "outputs": [],
   "source": []
  },
  {
   "cell_type": "code",
   "execution_count": null,
   "id": "52b1a3c0-17cc-417d-81df-00b15da58703",
   "metadata": {},
   "outputs": [],
   "source": []
  }
 ],
 "metadata": {
  "kernelspec": {
   "display_name": "Python 3 (ipykernel)",
   "language": "python",
   "name": "python3"
  },
  "language_info": {
   "codemirror_mode": {
    "name": "ipython",
    "version": 3
   },
   "file_extension": ".py",
   "mimetype": "text/x-python",
   "name": "python",
   "nbconvert_exporter": "python",
   "pygments_lexer": "ipython3",
   "version": "3.12.9"
  }
 },
 "nbformat": 4,
 "nbformat_minor": 5
}
